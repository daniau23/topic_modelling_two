{
 "cells": [
  {
   "cell_type": "code",
   "execution_count": 1,
   "metadata": {},
   "outputs": [],
   "source": [
    "import pandas as pd\n",
    "import numpy as np \n",
    "import matplotlib.pyplot as plt\n",
    "import plotly.express as px\n",
    "import plotly.graph_objects as go\n",
    "import plotly.figure_factory as ff\n",
    "import seaborn as sns\n",
    "import warnings\n",
    "warnings.filterwarnings(\"ignore\")\n",
    "# from nltk.tokenize import word_tokenize as wt \n",
    "# from collections import Counter\n",
    "# from wordcloud import WordCloud, STOPWORDS\n",
    "# from vaderSentiment.vaderSentiment import SentimentIntensityAnalyzer\n",
    "# import textblob\n",
    "import string\n",
    "import re\n",
    "import spacy"
   ]
  },
  {
   "cell_type": "markdown",
   "metadata": {},
   "source": [
    "#### **Spacy exploration**"
   ]
  },
  {
   "cell_type": "code",
   "execution_count": 2,
   "metadata": {},
   "outputs": [],
   "source": [
    "nlp = spacy.load(\"en_core_web_sm\")"
   ]
  },
  {
   "cell_type": "markdown",
   "metadata": {},
   "source": [
    "#### **Generating sentiments**"
   ]
  },
  {
   "cell_type": "markdown",
   "metadata": {},
   "source": [
    "**Plan of Action**\n",
    "\n",
    "- Load the data\n",
    "- Drop irrelevant columns\n",
    "- Drop duplicates and null values\n",
    "- Memory saving by converting to respective data types\n",
    "- Perform EDA on uncleaned text data\n",
    "\n",
    "**Cleaned text**\n",
    "- Clean the text data\n",
    "    - Using the preprocess function\n",
    "    - Perform EDA"
   ]
  },
  {
   "cell_type": "code",
   "execution_count": 3,
   "metadata": {},
   "outputs": [],
   "source": [
    "dataframe = pd.read_csv('../data/amazon_reviews.csv')      "
   ]
  },
  {
   "cell_type": "code",
   "execution_count": 4,
   "metadata": {},
   "outputs": [
    {
     "data": {
      "text/html": [
       "<div>\n",
       "<style scoped>\n",
       "    .dataframe tbody tr th:only-of-type {\n",
       "        vertical-align: middle;\n",
       "    }\n",
       "\n",
       "    .dataframe tbody tr th {\n",
       "        vertical-align: top;\n",
       "    }\n",
       "\n",
       "    .dataframe thead th {\n",
       "        text-align: right;\n",
       "    }\n",
       "</style>\n",
       "<table border=\"1\" class=\"dataframe\">\n",
       "  <thead>\n",
       "    <tr style=\"text-align: right;\">\n",
       "      <th></th>\n",
       "      <th>id</th>\n",
       "      <th>profile_name</th>\n",
       "      <th>review_score</th>\n",
       "      <th>review_title</th>\n",
       "      <th>review_date</th>\n",
       "      <th>product_colour</th>\n",
       "      <th>the_review</th>\n",
       "    </tr>\n",
       "  </thead>\n",
       "  <tbody>\n",
       "    <tr>\n",
       "      <th>7270</th>\n",
       "      <td>7264</td>\n",
       "      <td>Beatris Bonilla</td>\n",
       "      <td>1.0</td>\n",
       "      <td>Disappointed</td>\n",
       "      <td>2021-09-11</td>\n",
       "      <td>Black</td>\n",
       "      <td>I used this mouse once and it died after an ho...</td>\n",
       "    </tr>\n",
       "    <tr>\n",
       "      <th>15907</th>\n",
       "      <td>853</td>\n",
       "      <td>Edmund Maximillian Watkins</td>\n",
       "      <td>5.0</td>\n",
       "      <td>Nice portable speaker at this price point</td>\n",
       "      <td>2021-08-15</td>\n",
       "      <td>Multicolor</td>\n",
       "      <td>I bought I bought it as a gift for my husband ...</td>\n",
       "    </tr>\n",
       "  </tbody>\n",
       "</table>\n",
       "</div>"
      ],
      "text/plain": [
       "         id                profile_name  review_score  \\\n",
       "7270   7264             Beatris Bonilla           1.0   \n",
       "15907   853  Edmund Maximillian Watkins           5.0   \n",
       "\n",
       "                                    review_title review_date product_colour  \\\n",
       "7270                                Disappointed  2021-09-11          Black   \n",
       "15907  Nice portable speaker at this price point  2021-08-15     Multicolor   \n",
       "\n",
       "                                              the_review  \n",
       "7270   I used this mouse once and it died after an ho...  \n",
       "15907  I bought I bought it as a gift for my husband ...  "
      ]
     },
     "execution_count": 4,
     "metadata": {},
     "output_type": "execute_result"
    }
   ],
   "source": [
    "dataframe.sample(n=2,random_state=42)"
   ]
  },
  {
   "cell_type": "code",
   "execution_count": 5,
   "metadata": {},
   "outputs": [],
   "source": [
    "dataframe.drop(['id','profile_name','product_colour'], axis=1, inplace=True)\n",
    "\n",
    "# Test without dropping id,profile_name, product_colour or review_title"
   ]
  },
  {
   "cell_type": "code",
   "execution_count": 6,
   "metadata": {},
   "outputs": [
    {
     "data": {
      "text/plain": [
       "(18409, 4)"
      ]
     },
     "execution_count": 6,
     "metadata": {},
     "output_type": "execute_result"
    }
   ],
   "source": [
    "dataframe.shape"
   ]
  },
  {
   "cell_type": "code",
   "execution_count": 7,
   "metadata": {},
   "outputs": [
    {
     "data": {
      "text/plain": [
       "review_score      0\n",
       "review_title    223\n",
       "review_date       0\n",
       "the_review      534\n",
       "dtype: int64"
      ]
     },
     "execution_count": 7,
     "metadata": {},
     "output_type": "execute_result"
    }
   ],
   "source": [
    "dataframe.isna().sum() "
   ]
  },
  {
   "cell_type": "code",
   "execution_count": 8,
   "metadata": {},
   "outputs": [
    {
     "data": {
      "text/plain": [
       "43"
      ]
     },
     "execution_count": 8,
     "metadata": {},
     "output_type": "execute_result"
    }
   ],
   "source": [
    "dataframe.duplicated().sum() "
   ]
  },
  {
   "cell_type": "markdown",
   "metadata": {},
   "source": [
    "- We have some nulls and duplicaated values.\n",
    "- Next we drop the nulls and duplicated values"
   ]
  },
  {
   "cell_type": "code",
   "execution_count": 9,
   "metadata": {},
   "outputs": [
    {
     "data": {
      "text/plain": [
       "(17678, 4)"
      ]
     },
     "execution_count": 9,
     "metadata": {},
     "output_type": "execute_result"
    }
   ],
   "source": [
    "dataframe_ = dataframe.copy()\n",
    "# Dropping nulls\n",
    "dataframe_.dropna(inplace=True)\n",
    "dataframe_.shape"
   ]
  },
  {
   "cell_type": "code",
   "execution_count": 10,
   "metadata": {},
   "outputs": [
    {
     "data": {
      "text/plain": [
       "review_score    0\n",
       "review_title    0\n",
       "review_date     0\n",
       "the_review      0\n",
       "dtype: int64"
      ]
     },
     "execution_count": 10,
     "metadata": {},
     "output_type": "execute_result"
    }
   ],
   "source": [
    "dataframe_.isna().sum() # No nulls"
   ]
  },
  {
   "cell_type": "code",
   "execution_count": 11,
   "metadata": {},
   "outputs": [
    {
     "data": {
      "text/plain": [
       "38"
      ]
     },
     "execution_count": 11,
     "metadata": {},
     "output_type": "execute_result"
    }
   ],
   "source": [
    "dataframe_.duplicated().sum()"
   ]
  },
  {
   "cell_type": "code",
   "execution_count": 12,
   "metadata": {},
   "outputs": [
    {
     "data": {
      "text/plain": [
       "(17640, 4)"
      ]
     },
     "execution_count": 12,
     "metadata": {},
     "output_type": "execute_result"
    }
   ],
   "source": [
    "# Dropping duplicates\n",
    "dataframe_.drop_duplicates(inplace=True)\n",
    "dataframe_.shape"
   ]
  },
  {
   "cell_type": "code",
   "execution_count": 13,
   "metadata": {},
   "outputs": [
    {
     "data": {
      "text/plain": [
       "0"
      ]
     },
     "execution_count": 13,
     "metadata": {},
     "output_type": "execute_result"
    }
   ],
   "source": [
    "dataframe_.duplicated().sum() # No duplicates"
   ]
  },
  {
   "cell_type": "code",
   "execution_count": 14,
   "metadata": {},
   "outputs": [
    {
     "data": {
      "text/html": [
       "<div>\n",
       "<style scoped>\n",
       "    .dataframe tbody tr th:only-of-type {\n",
       "        vertical-align: middle;\n",
       "    }\n",
       "\n",
       "    .dataframe tbody tr th {\n",
       "        vertical-align: top;\n",
       "    }\n",
       "\n",
       "    .dataframe thead th {\n",
       "        text-align: right;\n",
       "    }\n",
       "</style>\n",
       "<table border=\"1\" class=\"dataframe\">\n",
       "  <thead>\n",
       "    <tr style=\"text-align: right;\">\n",
       "      <th></th>\n",
       "      <th>review_score</th>\n",
       "    </tr>\n",
       "  </thead>\n",
       "  <tbody>\n",
       "    <tr>\n",
       "      <th>count</th>\n",
       "      <td>17640.000000</td>\n",
       "    </tr>\n",
       "    <tr>\n",
       "      <th>mean</th>\n",
       "      <td>3.627551</td>\n",
       "    </tr>\n",
       "    <tr>\n",
       "      <th>std</th>\n",
       "      <td>1.686209</td>\n",
       "    </tr>\n",
       "    <tr>\n",
       "      <th>min</th>\n",
       "      <td>1.000000</td>\n",
       "    </tr>\n",
       "    <tr>\n",
       "      <th>25%</th>\n",
       "      <td>2.000000</td>\n",
       "    </tr>\n",
       "    <tr>\n",
       "      <th>50%</th>\n",
       "      <td>5.000000</td>\n",
       "    </tr>\n",
       "    <tr>\n",
       "      <th>75%</th>\n",
       "      <td>5.000000</td>\n",
       "    </tr>\n",
       "    <tr>\n",
       "      <th>max</th>\n",
       "      <td>5.000000</td>\n",
       "    </tr>\n",
       "  </tbody>\n",
       "</table>\n",
       "</div>"
      ],
      "text/plain": [
       "       review_score\n",
       "count  17640.000000\n",
       "mean       3.627551\n",
       "std        1.686209\n",
       "min        1.000000\n",
       "25%        2.000000\n",
       "50%        5.000000\n",
       "75%        5.000000\n",
       "max        5.000000"
      ]
     },
     "execution_count": 14,
     "metadata": {},
     "output_type": "execute_result"
    }
   ],
   "source": [
    "dataframe_.describe()"
   ]
  },
  {
   "cell_type": "code",
   "execution_count": 15,
   "metadata": {},
   "outputs": [
    {
     "data": {
      "text/plain": [
       "review_score    float64\n",
       "review_title     object\n",
       "review_date      object\n",
       "the_review       object\n",
       "dtype: object"
      ]
     },
     "execution_count": 15,
     "metadata": {},
     "output_type": "execute_result"
    }
   ],
   "source": [
    "dataframe_.dtypes"
   ]
  },
  {
   "cell_type": "code",
   "execution_count": 16,
   "metadata": {},
   "outputs": [],
   "source": [
    "# review_title_length = [len(b.split()) for b in dataframe_.loc[:,\"review_title\"]]\n",
    "import math \n",
    "the_review_length = [math.floor(len(b.split())) for b in dataframe_.loc[:,\"the_review\"]]"
   ]
  },
  {
   "cell_type": "code",
   "execution_count": 17,
   "metadata": {},
   "outputs": [],
   "source": [
    "# dataframe_['review_title_length'] = review_title_length\n",
    "dataframe_['the_review_length'] = the_review_length "
   ]
  },
  {
   "cell_type": "code",
   "execution_count": 18,
   "metadata": {},
   "outputs": [
    {
     "name": "stdout",
     "output_type": "stream",
     "text": [
      "<class 'pandas.core.frame.DataFrame'>\n",
      "Int64Index: 17640 entries, 0 to 18332\n",
      "Data columns (total 5 columns):\n",
      " #   Column             Non-Null Count  Dtype  \n",
      "---  ------             --------------  -----  \n",
      " 0   review_score       17640 non-null  float64\n",
      " 1   review_title       17640 non-null  object \n",
      " 2   review_date        17640 non-null  object \n",
      " 3   the_review         17640 non-null  object \n",
      " 4   the_review_length  17640 non-null  int64  \n",
      "dtypes: float64(1), int64(1), object(3)\n",
      "memory usage: 8.2 MB\n"
     ]
    }
   ],
   "source": [
    "dataframe_.info(memory_usage='deep')"
   ]
  },
  {
   "cell_type": "markdown",
   "metadata": {},
   "source": [
    "\n",
    "| Data-Type | Precision |\n",
    "| ----------- | ----------- |\n",
    "float16   | 3\n",
    "float32   | 6\n",
    "float64   | 15\n",
    "float128  | 18\n",
    "\n",
    "--------------------------------- \n",
    "\n",
    "\n",
    "|Data type |min|max|\n",
    "| ----------- | ----------- |----------- |\n",
    "|int8|-128|127|\n",
    "|int16|-32768|32767|\n",
    "|int32|-2147483648|2147483647|\n",
    "|int64|-9223372036854775808|9223372036854775807|"
   ]
  },
  {
   "cell_type": "code",
   "execution_count": 19,
   "metadata": {},
   "outputs": [],
   "source": [
    "def memory_magment(df):\n",
    "    for col in df.columns:\n",
    "        col_type = df[col].dtype\n",
    "\n",
    "        if col_type != np.object:\n",
    "            c_min = df[col].min()\n",
    "            c_max = df[col].max()\n",
    "\n",
    "            if str(col_type)[:3] == 'int':\n",
    "                if c_min > np.iinfo(np.int8).min and c_max < np.iinfo(np.int8).max:\n",
    "                    df[col] = df[col].astype(np.int8) # int 8\n",
    "                elif c_min > np.iinfo(np.int16).min and c_max < np.iinfo(np.int16).max:\n",
    "                    df[col] = df[col].astype(np.int16) # int 16\n",
    "                elif c_min > np.iinfo(np.int32).min and c_max < np.iinfo(np.int32).max:\n",
    "                    df[col] = df[col].astype(np.int32)  # in 32\n",
    "                elif c_min > np.iinfo(np.int64).min and c_max < np.iinfo(np.int64).max:\n",
    "                    df[col] = df[col].astype(np.int64) # int 64 \n",
    "            else:\n",
    "                if c_min > np.finfo(np.float16).min and c_max < np.finfo(np.float16).max:\n",
    "                    df[col] = df[col].astype(np.float16)\n",
    "                elif c_min > np.finfo(np.float32).min and c_max < np.finfo(np.float32).max:\n",
    "                    df[col] = df[col].astype(np.float32)\n",
    "                else: \n",
    "                    df[col] = df[col].astype(np.float64)\n",
    "    return df\n",
    "df_memory = dataframe_.copy()\n",
    "df_memory = memory_magment(df_memory)    "
   ]
  },
  {
   "cell_type": "code",
   "execution_count": 20,
   "metadata": {},
   "outputs": [
    {
     "name": "stdout",
     "output_type": "stream",
     "text": [
      "<class 'pandas.core.frame.DataFrame'>\n",
      "Int64Index: 17640 entries, 0 to 18332\n",
      "Data columns (total 5 columns):\n",
      " #   Column             Non-Null Count  Dtype  \n",
      "---  ------             --------------  -----  \n",
      " 0   review_score       17640 non-null  float16\n",
      " 1   review_title       17640 non-null  object \n",
      " 2   review_date        17640 non-null  object \n",
      " 3   the_review         17640 non-null  object \n",
      " 4   the_review_length  17640 non-null  int16  \n",
      "dtypes: float16(1), int16(1), object(3)\n",
      "memory usage: 8.0 MB\n"
     ]
    }
   ],
   "source": [
    "df_memory.info(memory_usage='deep')"
   ]
  },
  {
   "cell_type": "markdown",
   "metadata": {},
   "source": [
    "### **EDA -1: Text analysis on uncleaned text**"
   ]
  },
  {
   "cell_type": "code",
   "execution_count": 21,
   "metadata": {},
   "outputs": [],
   "source": [
    "df_eda = df_memory"
   ]
  },
  {
   "cell_type": "code",
   "execution_count": 22,
   "metadata": {},
   "outputs": [
    {
     "data": {
      "text/plain": [
       "Index(['review_score', 'review_title', 'review_date', 'the_review',\n",
       "       'the_review_length'],\n",
       "      dtype='object')"
      ]
     },
     "execution_count": 22,
     "metadata": {},
     "output_type": "execute_result"
    }
   ],
   "source": [
    "df_eda.columns"
   ]
  },
  {
   "cell_type": "code",
   "execution_count": 23,
   "metadata": {},
   "outputs": [],
   "source": [
    "df_eda['year'] = df_eda['review_date'].apply(lambda x: x.split(\"-\")[0])\n",
    "df_eda['month'] = df_eda['review_date'].apply(lambda x: x.split(\"-\")[1])"
   ]
  },
  {
   "cell_type": "code",
   "execution_count": 24,
   "metadata": {},
   "outputs": [
    {
     "data": {
      "text/plain": [
       "Text(0.5, 1.0, 'Review Score Count')"
      ]
     },
     "execution_count": 24,
     "metadata": {},
     "output_type": "execute_result"
    },
    {
     "data": {
      "image/png": "[encoded data removed]",
      "text/plain": [
       "<Figure size 720x720 with 1 Axes>"
      ]
     },
     "metadata": {
      "needs_background": "light"
     },
     "output_type": "display_data"
    }
   ],
   "source": [
    "fig,ax = plt.subplots(figsize=(10,10))\n",
    "sns.set_theme(style=\"darkgrid\")\n",
    "sns.countplot(data=df_eda,x='review_score',hue='review_score')\n",
    "# ax.tick_params(axis=\"x\",rotation=-45)\n",
    "\n",
    "ax.set_xticklabels(fontsize=15,labels=[1,2,3,4,5])\n",
    "\n",
    "\n",
    "for p in ax.patches:\n",
    "   ax.annotate('{}'.format(p.get_height()), (p.get_x()+0.25, p.get_height()+0.01), size=15)\n",
    "         \n",
    "ax.set_xlabel(\"review_score\", fontdict={'fontsize':20})\n",
    "ax.set_title(\"Review Score Count\", fontdict={'fontsize':30})"
   ]
  },
  {
   "cell_type": "markdown",
   "metadata": {},
   "source": [
    "The following can be derived from the graph above;\n",
    "- review_score of 5 is the highest in the dataset, followed by 1, 4 and 3."
   ]
  },
  {
   "cell_type": "code",
   "execution_count": 25,
   "metadata": {},
   "outputs": [],
   "source": [
    "def plotting_bar_date(x:str,group:str):\n",
    "    try:\n",
    "        grouped_agg = df_eda.groupby(group)[x].value_counts().to_frame('total_counts').reset_index()\n",
    "        fig,ax = plt.subplots(1, figsize=(20,10))\n",
    "\n",
    "        colors = [\n",
    "            'purple','green',\n",
    "            'blue','pink',\n",
    "            'brown','red',\n",
    "            'yellow','orange',\n",
    "            'teal','purple',\n",
    "            'tan','aqua',\n",
    "                ]\n",
    "        my_palette = sns.xkcd_palette(colors)\n",
    "        sns.set_theme(style=\"darkgrid\")\n",
    "        sns.barplot(data=grouped_agg, x=group, y=f'total_counts', palette=my_palette,hue=x)\n",
    "\n",
    "\n",
    "        # ax.set_title(f'Number of reviews a {x}',fontsize=30)\n",
    "        ax.set_xlabel(f\"{group}\", fontdict={'fontsize':20})\n",
    "        ax.set_ylabel(f\"total_counts in {x}\", fontdict={'fontsize':20})\n",
    "    except KeyError:\n",
    "            print(f\"The wrong Key was passed\\nPlease look are the information below\\n\")\n",
    "            df_eda.info(memory_usage='deep')"
   ]
  },
  {
   "cell_type": "code",
   "execution_count": 26,
   "metadata": {},
   "outputs": [
    {
     "data": {
      "image/png": "[encoded data removed]",
      "text/plain": [
       "<Figure size 1440x720 with 1 Axes>"
      ]
     },
     "metadata": {},
     "output_type": "display_data"
    }
   ],
   "source": [
    "plotting_bar_date(group='review_score',x='year') "
   ]
  },
  {
   "cell_type": "markdown",
   "metadata": {},
   "source": [
    "The following can be derived from the graph above;\n",
    "\n",
    "- Amongst the mouse, keyboard, headset, speaker datasets, in the year 2021, we can see a collective high amount of 5/5 reviews followed by 2022\n",
    "- We can see that in the year 2022 and 2021, has a high amount of 1 star reviews\n",
    "- We can see that  2-4 star reviews for all the products are quite few; could mean that customers are thorough with their user experience with the purchased products, **IT IS EITHER GOOD OR BAD**"
   ]
  },
  {
   "cell_type": "code",
   "execution_count": 27,
   "metadata": {},
   "outputs": [
    {
     "data": {
      "image/png": "[encoded data removed]",
      "text/plain": [
       "<Figure size 1440x720 with 1 Axes>"
      ]
     },
     "metadata": {},
     "output_type": "display_data"
    }
   ],
   "source": [
    "plotting_bar_date(group='year',x='review_score') "
   ]
  },
  {
   "cell_type": "markdown",
   "metadata": {},
   "source": [
    "The following can be derived from the graph above;\n",
    "\n",
    "- Little to not much reviews could be found from years 2018-2019; could be that the products only grew into popularity in 2020 or clearing out of the database from Amazon or due to removal of null values and duplicates; This last point could be highly unlikely because initial size of the data was 18409 data points and before downsizing it to 17340 data points after removal of null values and duplicates."
   ]
  },
  {
   "cell_type": "code",
   "execution_count": 28,
   "metadata": {},
   "outputs": [
    {
     "data": {
      "image/png": "[encoded data removed]",
      "text/plain": [
       "<Figure size 1440x720 with 1 Axes>"
      ]
     },
     "metadata": {},
     "output_type": "display_data"
    }
   ],
   "source": [
    "plotting_bar_date(group='review_score',x='month') "
   ]
  },
  {
   "cell_type": "markdown",
   "metadata": {},
   "source": [
    "The following can be derived from the graph above;\n",
    "\n",
    "- 4 & 5 star reviews came mostly within the month of March \n",
    "- 1 star reviews came mostly from August\n",
    "- 2-3 star reviews have fluctuations within the months."
   ]
  },
  {
   "cell_type": "code",
   "execution_count": 29,
   "metadata": {},
   "outputs": [
    {
     "data": {
      "image/png": "[encoded data removed]",
      "text/plain": [
       "<Figure size 1440x720 with 1 Axes>"
      ]
     },
     "metadata": {},
     "output_type": "display_data"
    }
   ],
   "source": [
    "plotting_bar_date(group='month',x='review_score') "
   ]
  },
  {
   "cell_type": "markdown",
   "metadata": {},
   "source": [
    "The following can be derived from the graph above;\n",
    "\n",
    "- This confirms the statements from the previous graph."
   ]
  },
  {
   "cell_type": "code",
   "execution_count": 30,
   "metadata": {},
   "outputs": [
    {
     "data": {
      "text/html": [
       "<div>\n",
       "<style scoped>\n",
       "    .dataframe tbody tr th:only-of-type {\n",
       "        vertical-align: middle;\n",
       "    }\n",
       "\n",
       "    .dataframe tbody tr th {\n",
       "        vertical-align: top;\n",
       "    }\n",
       "\n",
       "    .dataframe thead th {\n",
       "        text-align: right;\n",
       "    }\n",
       "</style>\n",
       "<table border=\"1\" class=\"dataframe\">\n",
       "  <thead>\n",
       "    <tr style=\"text-align: right;\">\n",
       "      <th></th>\n",
       "      <th>review_score</th>\n",
       "      <th>total_count</th>\n",
       "    </tr>\n",
       "  </thead>\n",
       "  <tbody>\n",
       "    <tr>\n",
       "      <th>0</th>\n",
       "      <td>5.0</td>\n",
       "      <td>9433</td>\n",
       "    </tr>\n",
       "    <tr>\n",
       "      <th>1</th>\n",
       "      <td>1.0</td>\n",
       "      <td>4091</td>\n",
       "    </tr>\n",
       "    <tr>\n",
       "      <th>2</th>\n",
       "      <td>4.0</td>\n",
       "      <td>1695</td>\n",
       "    </tr>\n",
       "    <tr>\n",
       "      <th>3</th>\n",
       "      <td>2.0</td>\n",
       "      <td>1309</td>\n",
       "    </tr>\n",
       "    <tr>\n",
       "      <th>4</th>\n",
       "      <td>3.0</td>\n",
       "      <td>1112</td>\n",
       "    </tr>\n",
       "  </tbody>\n",
       "</table>\n",
       "</div>"
      ],
      "text/plain": [
       "   review_score  total_count\n",
       "0           5.0         9433\n",
       "1           1.0         4091\n",
       "2           4.0         1695\n",
       "3           2.0         1309\n",
       "4           3.0         1112"
      ]
     },
     "execution_count": 30,
     "metadata": {},
     "output_type": "execute_result"
    }
   ],
   "source": [
    "# For Pie Chart\n",
    "df_review_score_count = df_eda['review_score'].value_counts()\n",
    "df_review_score_count= df_review_score_count.to_frame().reset_index()\n",
    "df_review_score_count.rename(columns={'index':'review_score','review_score':'total_count'}, inplace=True)\n",
    "\n",
    "df_review_score_count"
   ]
  },
  {
   "cell_type": "code",
   "execution_count": 31,
   "metadata": {},
   "outputs": [
    {
     "data": {
      "application/vnd.plotly.v1+json": {
       "config": {
        "plotlyServerURL": "https://plot.ly"
       },
       "data": [
        {
         "hoverinfo": "label+percent",
         "labels": [
          5,
          1,
          4,
          2,
          3
         ],
         "marker": {
          "colors": [
           "gold",
           "mediumturquoise",
           "darkorange",
           "lightgreen",
           "lightblue"
          ],
          "line": {
           "color": "#000000",
           "width": 2
          }
         },
         "textfont": {
          "size": 20
         },
         "textinfo": "value",
         "type": "pie",
         "values": [
          9433,
          4091,
          1695,
          1309,
          1112
         ]
        }
       ],
       "layout": {
        "template": {
         "data": {
          "bar": [
           {
            "error_x": {
             "color": "#2a3f5f"
            },
            "error_y": {
             "color": "#2a3f5f"
            },
            "marker": {
             "line": {
              "color": "#E5ECF6",
              "width": 0.5
             },
             "pattern": {
              "fillmode": "overlay",
              "size": 10,
              "solidity": 0.2
             }
            },
            "type": "bar"
           }
          ],
          "barpolar": [
           {
            "marker": {
             "line": {
              "color": "#E5ECF6",
              "width": 0.5
             },
             "pattern": {
              "fillmode": "overlay",
              "size": 10,
              "solidity": 0.2
             }
            },
            "type": "barpolar"
           }
          ],
          "carpet": [
           {
            "aaxis": {
             "endlinecolor": "#2a3f5f",
             "gridcolor": "white",
             "linecolor": "white",
             "minorgridcolor": "white",
             "startlinecolor": "#2a3f5f"
            },
            "baxis": {
             "endlinecolor": "#2a3f5f",
             "gridcolor": "white",
             "linecolor": "white",
             "minorgridcolor": "white",
             "startlinecolor": "#2a3f5f"
            },
            "type": "carpet"
           }
          ],
          "choropleth": [
           {
            "colorbar": {
             "outlinewidth": 0,
             "ticks": ""
            },
            "type": "choropleth"
           }
          ],
          "contour": [
           {
            "colorbar": {
             "outlinewidth": 0,
             "ticks": ""
            },
            "colorscale": [
             [
              0,
              "#0d0887"
             ],
             [
              0.1111111111111111,
              "#46039f"
             ],
             [
              0.2222222222222222,
              "#7201a8"
             ],
             [
              0.3333333333333333,
              "#9c179e"
             ],
             [
              0.4444444444444444,
              "#bd3786"
             ],
             [
              0.5555555555555556,
              "#d8576b"
             ],
             [
              0.6666666666666666,
              "#ed7953"
             ],
             [
              0.7777777777777778,
              "#fb9f3a"
             ],
             [
              0.8888888888888888,
              "#fdca26"
             ],
             [
              1,
              "#f0f921"
             ]
            ],
            "type": "contour"
           }
          ],
          "contourcarpet": [
           {
            "colorbar": {
             "outlinewidth": 0,
             "ticks": ""
            },
            "type": "contourcarpet"
           }
          ],
          "heatmap": [
           {
            "colorbar": {
             "outlinewidth": 0,
             "ticks": ""
            },
            "colorscale": [
             [
              0,
              "#0d0887"
             ],
             [
              0.1111111111111111,
              "#46039f"
             ],
             [
              0.2222222222222222,
              "#7201a8"
             ],
             [
              0.3333333333333333,
              "#9c179e"
             ],
             [
              0.4444444444444444,
              "#bd3786"
             ],
             [
              0.5555555555555556,
              "#d8576b"
             ],
             [
              0.6666666666666666,
              "#ed7953"
             ],
             [
              0.7777777777777778,
              "#fb9f3a"
             ],
             [
              0.8888888888888888,
              "#fdca26"
             ],
             [
              1,
              "#f0f921"
             ]
            ],
            "type": "heatmap"
           }
          ],
          "heatmapgl": [
           {
            "colorbar": {
             "outlinewidth": 0,
             "ticks": ""
            },
            "colorscale": [
             [
              0,
              "#0d0887"
             ],
             [
              0.1111111111111111,
              "#46039f"
             ],
             [
              0.2222222222222222,
              "#7201a8"
             ],
             [
              0.3333333333333333,
              "#9c179e"
             ],
             [
              0.4444444444444444,
              "#bd3786"
             ],
             [
              0.5555555555555556,
              "#d8576b"
             ],
             [
              0.6666666666666666,
              "#ed7953"
             ],
             [
              0.7777777777777778,
              "#fb9f3a"
             ],
             [
              0.8888888888888888,
              "#fdca26"
             ],
             [
              1,
              "#f0f921"
             ]
            ],
            "type": "heatmapgl"
           }
          ],
          "histogram": [
           {
            "marker": {
             "pattern": {
              "fillmode": "overlay",
              "size": 10,
              "solidity": 0.2
             }
            },
            "type": "histogram"
           }
          ],
          "histogram2d": [
           {
            "colorbar": {
             "outlinewidth": 0,
             "ticks": ""
            },
            "colorscale": [
             [
              0,
              "#0d0887"
             ],
             [
              0.1111111111111111,
              "#46039f"
             ],
             [
              0.2222222222222222,
              "#7201a8"
             ],
             [
              0.3333333333333333,
              "#9c179e"
             ],
             [
              0.4444444444444444,
              "#bd3786"
             ],
             [
              0.5555555555555556,
              "#d8576b"
             ],
             [
              0.6666666666666666,
              "#ed7953"
             ],
             [
              0.7777777777777778,
              "#fb9f3a"
             ],
             [
              0.8888888888888888,
              "#fdca26"
             ],
             [
              1,
              "#f0f921"
             ]
            ],
            "type": "histogram2d"
           }
          ],
          "histogram2dcontour": [
           {
            "colorbar": {
             "outlinewidth": 0,
             "ticks": ""
            },
            "colorscale": [
             [
              0,
              "#0d0887"
             ],
             [
              0.1111111111111111,
              "#46039f"
             ],
             [
              0.2222222222222222,
              "#7201a8"
             ],
             [
              0.3333333333333333,
              "#9c179e"
             ],
             [
              0.4444444444444444,
              "#bd3786"
             ],
             [
              0.5555555555555556,
              "#d8576b"
             ],
             [
              0.6666666666666666,
              "#ed7953"
             ],
             [
              0.7777777777777778,
              "#fb9f3a"
             ],
             [
              0.8888888888888888,
              "#fdca26"
             ],
             [
              1,
              "#f0f921"
             ]
            ],
            "type": "histogram2dcontour"
           }
          ],
          "mesh3d": [
           {
            "colorbar": {
             "outlinewidth": 0,
             "ticks": ""
            },
            "type": "mesh3d"
           }
          ],
          "parcoords": [
           {
            "line": {
             "colorbar": {
              "outlinewidth": 0,
              "ticks": ""
             }
            },
            "type": "parcoords"
           }
          ],
          "pie": [
           {
            "automargin": true,
            "type": "pie"
           }
          ],
          "scatter": [
           {
            "fillpattern": {
             "fillmode": "overlay",
             "size": 10,
             "solidity": 0.2
            },
            "type": "scatter"
           }
          ],
          "scatter3d": [
           {
            "line": {
             "colorbar": {
              "outlinewidth": 0,
              "ticks": ""
             }
            },
            "marker": {
             "colorbar": {
              "outlinewidth": 0,
              "ticks": ""
             }
            },
            "type": "scatter3d"
           }
          ],
          "scattercarpet": [
           {
            "marker": {
             "colorbar": {
              "outlinewidth": 0,
              "ticks": ""
             }
            },
            "type": "scattercarpet"
           }
          ],
          "scattergeo": [
           {
            "marker": {
             "colorbar": {
              "outlinewidth": 0,
              "ticks": ""
             }
            },
            "type": "scattergeo"
           }
          ],
          "scattergl": [
           {
            "marker": {
             "colorbar": {
              "outlinewidth": 0,
              "ticks": ""
             }
            },
            "type": "scattergl"
           }
          ],
          "scattermapbox": [
           {
            "marker": {
             "colorbar": {
              "outlinewidth": 0,
              "ticks": ""
             }
            },
            "type": "scattermapbox"
           }
          ],
          "scatterpolar": [
           {
            "marker": {
             "colorbar": {
              "outlinewidth": 0,
              "ticks": ""
             }
            },
            "type": "scatterpolar"
           }
          ],
          "scatterpolargl": [
           {
            "marker": {
             "colorbar": {
              "outlinewidth": 0,
              "ticks": ""
             }
            },
            "type": "scatterpolargl"
           }
          ],
          "scatterternary": [
           {
            "marker": {
             "colorbar": {
              "outlinewidth": 0,
              "ticks": ""
             }
            },
            "type": "scatterternary"
           }
          ],
          "surface": [
           {
            "colorbar": {
             "outlinewidth": 0,
             "ticks": ""
            },
            "colorscale": [
             [
              0,
              "#0d0887"
             ],
             [
              0.1111111111111111,
              "#46039f"
             ],
             [
              0.2222222222222222,
              "#7201a8"
             ],
             [
              0.3333333333333333,
              "#9c179e"
             ],
             [
              0.4444444444444444,
              "#bd3786"
             ],
             [
              0.5555555555555556,
              "#d8576b"
             ],
             [
              0.6666666666666666,
              "#ed7953"
             ],
             [
              0.7777777777777778,
              "#fb9f3a"
             ],
             [
              0.8888888888888888,
              "#fdca26"
             ],
             [
              1,
              "#f0f921"
             ]
            ],
            "type": "surface"
           }
          ],
          "table": [
           {
            "cells": {
             "fill": {
              "color": "#EBF0F8"
             },
             "line": {
              "color": "white"
             }
            },
            "header": {
             "fill": {
              "color": "#C8D4E3"
             },
             "line": {
              "color": "white"
             }
            },
            "type": "table"
           }
          ]
         },
         "layout": {
          "annotationdefaults": {
           "arrowcolor": "#2a3f5f",
           "arrowhead": 0,
           "arrowwidth": 1
          },
          "autotypenumbers": "strict",
          "coloraxis": {
           "colorbar": {
            "outlinewidth": 0,
            "ticks": ""
           }
          },
          "colorscale": {
           "diverging": [
            [
             0,
             "#8e0152"
            ],
            [
             0.1,
             "#c51b7d"
            ],
            [
             0.2,
             "#de77ae"
            ],
            [
             0.3,
             "#f1b6da"
            ],
            [
             0.4,
             "#fde0ef"
            ],
            [
             0.5,
             "#f7f7f7"
            ],
            [
             0.6,
             "#e6f5d0"
            ],
            [
             0.7,
             "#b8e186"
            ],
            [
             0.8,
             "#7fbc41"
            ],
            [
             0.9,
             "#4d9221"
            ],
            [
             1,
             "#276419"
            ]
           ],
           "sequential": [
            [
             0,
             "#0d0887"
            ],
            [
             0.1111111111111111,
             "#46039f"
            ],
            [
             0.2222222222222222,
             "#7201a8"
            ],
            [
             0.3333333333333333,
             "#9c179e"
            ],
            [
             0.4444444444444444,
             "#bd3786"
            ],
            [
             0.5555555555555556,
             "#d8576b"
            ],
            [
             0.6666666666666666,
             "#ed7953"
            ],
            [
             0.7777777777777778,
             "#fb9f3a"
            ],
            [
             0.8888888888888888,
             "#fdca26"
            ],
            [
             1,
             "#f0f921"
            ]
           ],
           "sequentialminus": [
            [
             0,
             "#0d0887"
            ],
            [
             0.1111111111111111,
             "#46039f"
            ],
            [
             0.2222222222222222,
             "#7201a8"
            ],
            [
             0.3333333333333333,
             "#9c179e"
            ],
            [
             0.4444444444444444,
             "#bd3786"
            ],
            [
             0.5555555555555556,
             "#d8576b"
            ],
            [
             0.6666666666666666,
             "#ed7953"
            ],
            [
             0.7777777777777778,
             "#fb9f3a"
            ],
            [
             0.8888888888888888,
             "#fdca26"
            ],
            [
             1,
             "#f0f921"
            ]
           ]
          },
          "colorway": [
           "#636efa",
           "#EF553B",
           "#00cc96",
           "#ab63fa",
           "#FFA15A",
           "#19d3f3",
           "#FF6692",
           "#B6E880",
           "#FF97FF",
           "#FECB52"
          ],
          "font": {
           "color": "#2a3f5f"
          },
          "geo": {
           "bgcolor": "white",
           "lakecolor": "white",
           "landcolor": "#E5ECF6",
           "showlakes": true,
           "showland": true,
           "subunitcolor": "white"
          },
          "hoverlabel": {
           "align": "left"
          },
          "hovermode": "closest",
          "mapbox": {
           "style": "light"
          },
          "paper_bgcolor": "white",
          "plot_bgcolor": "#E5ECF6",
          "polar": {
           "angularaxis": {
            "gridcolor": "white",
            "linecolor": "white",
            "ticks": ""
           },
           "bgcolor": "#E5ECF6",
           "radialaxis": {
            "gridcolor": "white",
            "linecolor": "white",
            "ticks": ""
           }
          },
          "scene": {
           "xaxis": {
            "backgroundcolor": "#E5ECF6",
            "gridcolor": "white",
            "gridwidth": 2,
            "linecolor": "white",
            "showbackground": true,
            "ticks": "",
            "zerolinecolor": "white"
           },
           "yaxis": {
            "backgroundcolor": "#E5ECF6",
            "gridcolor": "white",
            "gridwidth": 2,
            "linecolor": "white",
            "showbackground": true,
            "ticks": "",
            "zerolinecolor": "white"
           },
           "zaxis": {
            "backgroundcolor": "#E5ECF6",
            "gridcolor": "white",
            "gridwidth": 2,
            "linecolor": "white",
            "showbackground": true,
            "ticks": "",
            "zerolinecolor": "white"
           }
          },
          "shapedefaults": {
           "line": {
            "color": "#2a3f5f"
           }
          },
          "ternary": {
           "aaxis": {
            "gridcolor": "white",
            "linecolor": "white",
            "ticks": ""
           },
           "baxis": {
            "gridcolor": "white",
            "linecolor": "white",
            "ticks": ""
           },
           "bgcolor": "#E5ECF6",
           "caxis": {
            "gridcolor": "white",
            "linecolor": "white",
            "ticks": ""
           }
          },
          "title": {
           "x": 0.05
          },
          "xaxis": {
           "automargin": true,
           "gridcolor": "white",
           "linecolor": "white",
           "ticks": "",
           "title": {
            "standoff": 15
           },
           "zerolinecolor": "white",
           "zerolinewidth": 2
          },
          "yaxis": {
           "automargin": true,
           "gridcolor": "white",
           "linecolor": "white",
           "ticks": "",
           "title": {
            "standoff": 15
           },
           "zerolinecolor": "white",
           "zerolinewidth": 2
          }
         }
        },
        "title": {
         "font": {
          "family": "Times New Roman"
         },
         "text": "Review Score",
         "x": 0.5,
         "xanchor": "center"
        },
        "width": 1000
       }
      }
     },
     "metadata": {},
     "output_type": "display_data"
    }
   ],
   "source": [
    "import plotly.graph_objects as go\n",
    "# fig = px.pie(df_review_score_count, values='total_count', names='review_score', title='review_score')\n",
    "# fig.show()\n",
    "\n",
    "\n",
    "colors = ['gold', 'mediumturquoise', 'darkorange', 'lightgreen', 'lightblue']\n",
    "\n",
    "fig = go.Figure(data=[go.Pie(labels=df_review_score_count.review_score,\n",
    "                             values=df_review_score_count.total_count)])\n",
    "\n",
    "\n",
    "fig.update_layout(\n",
    "width=1000,\n",
    "title={\"x\": 0.5, \"xanchor\":\"center\", \n",
    "\"font_family\":\"Times New Roman\", \n",
    "\"text\":\"Review Score\"})\n",
    "\n",
    "fig.update_traces(hoverinfo='label+percent', textinfo='value', textfont_size=20,\n",
    "                  marker={'colors':colors, 'line_color':'#000000','line_width':2})\n",
    "\n",
    "fig.show()\n"
   ]
  },
  {
   "cell_type": "markdown",
   "metadata": {},
   "source": [
    "The following can be derived from the graph above;\n",
    "\n",
    "- 5 star reviews makes more that half of the dataset; 53.5%\n",
    "- 1 star reviews make up 23.5% of the dataset\n",
    "- 4 star reviews make up 9.61% of the dataset\n",
    "- 2 star reviews make up 7.42% of the dataset\n",
    "- 3 star reviews make up 6.3% of the dataset"
   ]
  },
  {
   "cell_type": "code",
   "execution_count": 32,
   "metadata": {},
   "outputs": [
    {
     "data": {
      "text/plain": [
       "Index(['review_score', 'review_title', 'review_date', 'the_review',\n",
       "       'the_review_length', 'year', 'month'],\n",
       "      dtype='object')"
      ]
     },
     "execution_count": 32,
     "metadata": {},
     "output_type": "execute_result"
    }
   ],
   "source": [
    "df_eda.columns"
   ]
  },
  {
   "cell_type": "code",
   "execution_count": 33,
   "metadata": {},
   "outputs": [
    {
     "data": {
      "text/html": [
       "<div>\n",
       "<style scoped>\n",
       "    .dataframe tbody tr th:only-of-type {\n",
       "        vertical-align: middle;\n",
       "    }\n",
       "\n",
       "    .dataframe tbody tr th {\n",
       "        vertical-align: top;\n",
       "    }\n",
       "\n",
       "    .dataframe thead tr th {\n",
       "        text-align: left;\n",
       "    }\n",
       "</style>\n",
       "<table border=\"1\" class=\"dataframe\">\n",
       "  <thead>\n",
       "    <tr>\n",
       "      <th></th>\n",
       "      <th>review_score</th>\n",
       "      <th colspan=\"6\" halign=\"left\">the_review_length</th>\n",
       "    </tr>\n",
       "    <tr>\n",
       "      <th></th>\n",
       "      <th></th>\n",
       "      <th>Count</th>\n",
       "      <th>Max</th>\n",
       "      <th>Min</th>\n",
       "      <th>Mean</th>\n",
       "      <th>Deviation</th>\n",
       "      <th>Skew</th>\n",
       "    </tr>\n",
       "  </thead>\n",
       "  <tbody>\n",
       "    <tr>\n",
       "      <th>0</th>\n",
       "      <td>1.0</td>\n",
       "      <td>4091</td>\n",
       "      <td>599</td>\n",
       "      <td>1</td>\n",
       "      <td>34.540455</td>\n",
       "      <td>39.262866</td>\n",
       "      <td>3.971877</td>\n",
       "    </tr>\n",
       "    <tr>\n",
       "      <th>1</th>\n",
       "      <td>2.0</td>\n",
       "      <td>1309</td>\n",
       "      <td>378</td>\n",
       "      <td>1</td>\n",
       "      <td>32.612681</td>\n",
       "      <td>35.259334</td>\n",
       "      <td>2.959378</td>\n",
       "    </tr>\n",
       "    <tr>\n",
       "      <th>2</th>\n",
       "      <td>3.0</td>\n",
       "      <td>1112</td>\n",
       "      <td>312</td>\n",
       "      <td>1</td>\n",
       "      <td>33.756295</td>\n",
       "      <td>34.467676</td>\n",
       "      <td>2.555387</td>\n",
       "    </tr>\n",
       "    <tr>\n",
       "      <th>3</th>\n",
       "      <td>4.0</td>\n",
       "      <td>1695</td>\n",
       "      <td>535</td>\n",
       "      <td>1</td>\n",
       "      <td>32.188201</td>\n",
       "      <td>43.033079</td>\n",
       "      <td>4.548172</td>\n",
       "    </tr>\n",
       "    <tr>\n",
       "      <th>4</th>\n",
       "      <td>5.0</td>\n",
       "      <td>9433</td>\n",
       "      <td>600</td>\n",
       "      <td>1</td>\n",
       "      <td>30.880738</td>\n",
       "      <td>37.323879</td>\n",
       "      <td>4.104046</td>\n",
       "    </tr>\n",
       "  </tbody>\n",
       "</table>\n",
       "</div>"
      ],
      "text/plain": [
       "  review_score the_review_length                                         \n",
       "                           Count  Max Min       Mean  Deviation      Skew\n",
       "0          1.0              4091  599   1  34.540455  39.262866  3.971877\n",
       "1          2.0              1309  378   1  32.612681  35.259334  2.959378\n",
       "2          3.0              1112  312   1  33.756295  34.467676  2.555387\n",
       "3          4.0              1695  535   1  32.188201  43.033079  4.548172\n",
       "4          5.0              9433  600   1  30.880738  37.323879  4.104046"
      ]
     },
     "execution_count": 33,
     "metadata": {},
     "output_type": "execute_result"
    }
   ],
   "source": [
    "df_eda.groupby('review_score')[['the_review_length']].agg([('Count','count'),('Max','max'),('Min','min'), (\"Mean\",'mean'),('Deviation','std'),('Skew','skew')]).reset_index()"
   ]
  },
  {
   "cell_type": "markdown",
   "metadata": {},
   "source": [
    "The following can be derived from the table above;\n",
    "\n",
    "**MAX LENGTH**\n",
    "\n",
    "- The maximum length of 1 star reviews is 599\n",
    "- The maximum length of 2 star reviews is 378\n",
    "- The maximum length of 3 star reviews is 312\n",
    "- The maximum length of 4 star reviews is 535\n",
    "- The maximum length of 5 star reviews is 600\n",
    "\n",
    "**MEAN LENGTH**\n",
    "\n",
    "- The mean length of 1,2,3,4,5 star reviews is fall within the range of 30-35 (approximately)\n",
    "\n",
    "**DEVIATION LENGTH**\n",
    "\n",
    "- The Deviation length from mean for 1,2,3,4,5 star reviews falls within the  range  of 34-43 (approximately)\n",
    "\n",
    "**SKEWNESS**\n",
    "\n",
    "- 5,4 and 1 star reviews have high skewness, probably due to their max length.\n",
    "- 2 and 3 star reviews have low skewness compared to others"
   ]
  },
  {
   "cell_type": "code",
   "execution_count": 34,
   "metadata": {},
   "outputs": [],
   "source": [
    "nums = df_eda[['the_review_length']]"
   ]
  },
  {
   "cell_type": "code",
   "execution_count": 35,
   "metadata": {},
   "outputs": [],
   "source": [
    "def outliers(data,col):\n",
    "    Q_1 = np.quantile(data[col],0.25)\n",
    "    Q_3 = np.quantile(data[col],0.75)\n",
    "    IQR = Q_3 - Q_1 \n",
    "    lower_bound = Q_1 - (1.5* IQR)\n",
    "    upper_bound = Q_3 + (1.5* IQR)\n",
    "    IQR_values = ((data[col] >= Q_1) & (data[col] <= Q_3)).sum()\n",
    "    outliers_beyond_upper_bound = (data[col] > upper_bound).sum()\n",
    "    outliers_below_lower_bound = (data[col]  < lower_bound).sum()\n",
    "    print(f\"IQR value for column {col} is: {IQR}\")\n",
    "    print(f\"Q_1 value for column {col} is: {Q_1}\")\n",
    "    print(f\"Q_3 value for column {col} is: {Q_3}\")\n",
    "    print(f\"Lower bound value for column {col} is: {lower_bound}\")\n",
    "    print(f\"Upper bound value for column {col} is: {upper_bound}\")\n",
    "    print(f\"The number of values within the IQR for {col} is {IQR_values}\")\n",
    "    print(f\"The number of outliers beyond the upper bound for {col} is {outliers_beyond_upper_bound}\")\n",
    "    print(f\"The number of outliers below the lower bound for {col} is {outliers_below_lower_bound}\\n\")"
   ]
  },
  {
   "cell_type": "code",
   "execution_count": 36,
   "metadata": {},
   "outputs": [],
   "source": [
    "def review_scores_two():\n",
    "    try:\n",
    "        scores = [1,2,3,4,5]\n",
    "        for index,val in enumerate(scores):\n",
    "            value = df_eda.review_score == val # The boolean\n",
    "            the_score = df_eda.loc[value] # New dataframe\n",
    "            colors_list = ['red',\n",
    "                    'darkgreen',\n",
    "                    'chocolate','deepskyblue','darkmagenta',\n",
    "                  ]\n",
    "            # Making the box plot\n",
    "            fig,ax = plt.subplots(1,2, figsize=(20,5))\n",
    "            sns.boxplot(data=the_score,x='the_review_length',ax=ax[0],color=colors_list[index])\n",
    "            sns.boxenplot(data=the_score,x='the_review_length',ax=ax[1],color=colors_list[index])\n",
    "            ax[0].set_title(f\"The box plot of review_score {val} with the_review_length\",fontdict={'size':15})\n",
    "            ax[1].set_title(f\"The boxen plot of review_score {val} with the_review_length\",fontdict={'size':15})\n",
    "            plt.subplots_adjust(wspace=0.1)\n",
    "\n",
    "            # The outliers\n",
    "            the_score_outlier = the_score[['the_review_length']]\n",
    "            for i in the_score_outlier.columns:\n",
    "                print(f\"review_score: {val}\")\n",
    "                outliers(the_score_outlier, i)\n",
    "    except ValueError:\n",
    "            print(f\"The wrong Key was passed\\nPlease look are the information below\\n\")\n",
    "            the_score.info(memory_usage='deep')"
   ]
  },
  {
   "cell_type": "code",
   "execution_count": 37,
   "metadata": {},
   "outputs": [
    {
     "name": "stdout",
     "output_type": "stream",
     "text": [
      "review_score: 1\n",
      "IQR value for column the_review_length is: 33.5\n",
      "Q_1 value for column the_review_length is: 10.5\n",
      "Q_3 value for column the_review_length is: 44.0\n",
      "Lower bound value for column the_review_length is: -39.75\n",
      "Upper bound value for column the_review_length is: 94.25\n",
      "The number of values within the IQR for the_review_length is 2061\n",
      "The number of outliers beyond the upper bound for the_review_length is 238\n",
      "The number of outliers below the lower bound for the_review_length is 0\n",
      "\n",
      "review_score: 2\n",
      "IQR value for column the_review_length is: 33.0\n",
      "Q_1 value for column the_review_length is: 10.0\n",
      "Q_3 value for column the_review_length is: 43.0\n",
      "Lower bound value for column the_review_length is: -39.5\n",
      "Upper bound value for column the_review_length is: 92.5\n",
      "The number of values within the IQR for the_review_length is 682\n",
      "The number of outliers beyond the upper bound for the_review_length is 75\n",
      "The number of outliers below the lower bound for the_review_length is 0\n",
      "\n",
      "review_score: 3\n",
      "IQR value for column the_review_length is: 35.0\n",
      "Q_1 value for column the_review_length is: 11.0\n",
      "Q_3 value for column the_review_length is: 46.0\n",
      "Lower bound value for column the_review_length is: -41.5\n",
      "Upper bound value for column the_review_length is: 98.5\n",
      "The number of values within the IQR for the_review_length is 566\n",
      "The number of outliers beyond the upper bound for the_review_length is 57\n",
      "The number of outliers below the lower bound for the_review_length is 0\n",
      "\n",
      "review_score: 4\n",
      "IQR value for column the_review_length is: 30.0\n",
      "Q_1 value for column the_review_length is: 9.0\n",
      "Q_3 value for column the_review_length is: 39.0\n",
      "Lower bound value for column the_review_length is: -36.0\n",
      "Upper bound value for column the_review_length is: 84.0\n",
      "The number of values within the IQR for the_review_length is 866\n",
      "The number of outliers beyond the upper bound for the_review_length is 127\n",
      "The number of outliers below the lower bound for the_review_length is 0\n",
      "\n",
      "review_score: 5\n",
      "IQR value for column the_review_length is: 30.0\n",
      "Q_1 value for column the_review_length is: 9.0\n",
      "Q_3 value for column the_review_length is: 39.0\n",
      "Lower bound value for column the_review_length is: -36.0\n",
      "Upper bound value for column the_review_length is: 84.0\n",
      "The number of values within the IQR for the_review_length is 4778\n",
      "The number of outliers beyond the upper bound for the_review_length is 636\n",
      "The number of outliers below the lower bound for the_review_length is 0\n",
      "\n"
     ]
    },
    {
     "data": {
      "image/png": "[encoded data removed]",
      "text/plain": [
       "<Figure size 1440x360 with 2 Axes>"
      ]
     },
     "metadata": {},
     "output_type": "display_data"
    },
    {
     "data": {
      "image/png": "[encoded data removed]",
      "text/plain": [
       "<Figure size 1440x360 with 2 Axes>"
      ]
     },
     "metadata": {},
     "output_type": "display_data"
    },
    {
     "data": {
      "image/png": "[encoded data removed]",
      "text/plain": [
       "<Figure size 1440x360 with 2 Axes>"
      ]
     },
     "metadata": {},
     "output_type": "display_data"
    },
    {
     "data": {
      "image/png": "[encoded data removed]",
      "text/plain": [
       "<Figure size 1440x360 with 2 Axes>"
      ]
     },
     "metadata": {},
     "output_type": "display_data"
    },
    {
     "data": {
      "image/png": "[encoded data removed]",
      "text/plain": [
       "<Figure size 1440x360 with 2 Axes>"
      ]
     },
     "metadata": {},
     "output_type": "display_data"
    }
   ],
   "source": [
    "review_scores_two()"
   ]
  },
  {
   "cell_type": "markdown",
   "metadata": {},
   "source": [
    "The following can be derived from the graph above;\n",
    "\n",
    "Using the Boxen plot for observations;\n",
    "- 1 star reviews has a variance that ends in the 300 review length\n",
    "- 2 star reviews has a variance that slightly passes the 200 review length\n",
    "- 3 star reviews seems to have a variance that begins from the 150 review length \n",
    "- 4 star reviews seems to have a variance that begins from the 200 review length \n",
    "- 5 star reviews seems to have a variance that begins from the 250 review length until slightly beyond the 400 review length."
   ]
  },
  {
   "cell_type": "code",
   "execution_count": 38,
   "metadata": {},
   "outputs": [],
   "source": [
    "def review_scores_hist_two():\n",
    "    try:\n",
    "        scores = [1,2,3,4,5]\n",
    "        for index,val in enumerate(scores):\n",
    "            value = df_eda.review_score == val # The boolean\n",
    "            the_score = df_eda.loc[value] # New dataframe\n",
    "            colors_list = ['red',\n",
    "                    'darkgreen',\n",
    "                    'chocolate','deepskyblue','darkmagenta',\n",
    "                  ]\n",
    "            # Making the box plot\n",
    "            fig,ax = plt.subplots(1, figsize=(20,5))\n",
    "            sns.histplot(data=the_score,x='the_review_length',kde=True, color=colors_list[index])\n",
    "            fig.suptitle(f\"The Histogram plot of review_score: {val} \",fontsize=15)\n",
    "            ax.set_title(f\"the_review_length skewness: {np.around(the_score['the_review_length'].skew(axis=0),3)}\",fontdict={'size':10})\n",
    "            plt.subplots_adjust(wspace=0.2)\n",
    "            # plt.subplots_adjust(hspace=0.5)\n",
    "    except ValueError:\n",
    "            print(f\"The wrong Key was passed\\nPlease look are the information below\\n\")\n",
    "            the_score.info(memory_usage='deep')"
   ]
  },
  {
   "cell_type": "code",
   "execution_count": 39,
   "metadata": {},
   "outputs": [
    {
     "data": {
      "image/png": "[encoded data removed]",
      "text/plain": [
       "<Figure size 1440x360 with 1 Axes>"
      ]
     },
     "metadata": {},
     "output_type": "display_data"
    },
    {
     "data": {
      "image/png": "[encoded data removed]",
      "text/plain": [
       "<Figure size 1440x360 with 1 Axes>"
      ]
     },
     "metadata": {},
     "output_type": "display_data"
    },
    {
     "data": {
      "image/png": "[encoded data removed]",
      "text/plain": [
       "<Figure size 1440x360 with 1 Axes>"
      ]
     },
     "metadata": {},
     "output_type": "display_data"
    },
    {
     "data": {
      "image/png": "[encoded data removed]",
      "text/plain": [
       "<Figure size 1440x360 with 1 Axes>"
      ]
     },
     "metadata": {},
     "output_type": "display_data"
    },
    {
     "data": {
      "image/png": "[encoded data removed]",
      "text/plain": [
       "<Figure size 1440x360 with 1 Axes>"
      ]
     },
     "metadata": {},
     "output_type": "display_data"
    }
   ],
   "source": [
    "review_scores_hist_two()"
   ]
  },
  {
   "cell_type": "markdown",
   "metadata": {},
   "source": [
    "The various Histogram plots validates the boxen and box plots"
   ]
  },
  {
   "cell_type": "code",
   "execution_count": 40,
   "metadata": {},
   "outputs": [
    {
     "data": {
      "text/html": [
       "<div>\n",
       "<style scoped>\n",
       "    .dataframe tbody tr th:only-of-type {\n",
       "        vertical-align: middle;\n",
       "    }\n",
       "\n",
       "    .dataframe tbody tr th {\n",
       "        vertical-align: top;\n",
       "    }\n",
       "\n",
       "    .dataframe thead th {\n",
       "        text-align: right;\n",
       "    }\n",
       "</style>\n",
       "<table border=\"1\" class=\"dataframe\">\n",
       "  <thead>\n",
       "    <tr style=\"text-align: right;\">\n",
       "      <th></th>\n",
       "      <th>review_score</th>\n",
       "      <th>review_title</th>\n",
       "      <th>review_date</th>\n",
       "      <th>the_review</th>\n",
       "      <th>the_review_length</th>\n",
       "      <th>year</th>\n",
       "      <th>month</th>\n",
       "    </tr>\n",
       "  </thead>\n",
       "  <tbody>\n",
       "    <tr>\n",
       "      <th>0</th>\n",
       "      <td>5.0</td>\n",
       "      <td>Works great</td>\n",
       "      <td>2022-10-29</td>\n",
       "      <td>I wish I would have gotten one earlier. I love...</td>\n",
       "      <td>21</td>\n",
       "      <td>2022</td>\n",
       "      <td>10</td>\n",
       "    </tr>\n",
       "    <tr>\n",
       "      <th>1</th>\n",
       "      <td>1.0</td>\n",
       "      <td>I hope you have better luck with this mouse th...</td>\n",
       "      <td>2022-10-29</td>\n",
       "      <td>I've learned this lesson (again). Open the pac...</td>\n",
       "      <td>91</td>\n",
       "      <td>2022</td>\n",
       "      <td>10</td>\n",
       "    </tr>\n",
       "    <tr>\n",
       "      <th>2</th>\n",
       "      <td>2.0</td>\n",
       "      <td>Not worth it</td>\n",
       "      <td>2022-10-29</td>\n",
       "      <td>It is so slow and lags find a better option</td>\n",
       "      <td>10</td>\n",
       "      <td>2022</td>\n",
       "      <td>10</td>\n",
       "    </tr>\n",
       "    <tr>\n",
       "      <th>3</th>\n",
       "      <td>1.0</td>\n",
       "      <td>Roller ball stopped working within 4 months of...</td>\n",
       "      <td>2022-10-29</td>\n",
       "      <td>Roller ball stopped working within 4 months of...</td>\n",
       "      <td>13</td>\n",
       "      <td>2022</td>\n",
       "      <td>10</td>\n",
       "    </tr>\n",
       "    <tr>\n",
       "      <th>4</th>\n",
       "      <td>1.0</td>\n",
       "      <td>The mouse will not hold a charge</td>\n",
       "      <td>2022-10-29</td>\n",
       "      <td>I like the color and size but it’s a few days ...</td>\n",
       "      <td>23</td>\n",
       "      <td>2022</td>\n",
       "      <td>10</td>\n",
       "    </tr>\n",
       "  </tbody>\n",
       "</table>\n",
       "</div>"
      ],
      "text/plain": [
       "   review_score                                       review_title  \\\n",
       "0           5.0                                        Works great   \n",
       "1           1.0  I hope you have better luck with this mouse th...   \n",
       "2           2.0                                       Not worth it   \n",
       "3           1.0  Roller ball stopped working within 4 months of...   \n",
       "4           1.0                   The mouse will not hold a charge   \n",
       "\n",
       "  review_date                                         the_review  \\\n",
       "0  2022-10-29  I wish I would have gotten one earlier. I love...   \n",
       "1  2022-10-29  I've learned this lesson (again). Open the pac...   \n",
       "2  2022-10-29        It is so slow and lags find a better option   \n",
       "3  2022-10-29  Roller ball stopped working within 4 months of...   \n",
       "4  2022-10-29  I like the color and size but it’s a few days ...   \n",
       "\n",
       "   the_review_length  year month  \n",
       "0                 21  2022    10  \n",
       "1                 91  2022    10  \n",
       "2                 10  2022    10  \n",
       "3                 13  2022    10  \n",
       "4                 23  2022    10  "
      ]
     },
     "execution_count": 40,
     "metadata": {},
     "output_type": "execute_result"
    }
   ],
   "source": [
    "df_eda.head()"
   ]
  },
  {
   "cell_type": "code",
   "execution_count": 41,
   "metadata": {},
   "outputs": [
    {
     "data": {
      "text/html": [
       "<div>\n",
       "<style scoped>\n",
       "    .dataframe tbody tr th:only-of-type {\n",
       "        vertical-align: middle;\n",
       "    }\n",
       "\n",
       "    .dataframe tbody tr th {\n",
       "        vertical-align: top;\n",
       "    }\n",
       "\n",
       "    .dataframe thead th {\n",
       "        text-align: right;\n",
       "    }\n",
       "</style>\n",
       "<table border=\"1\" class=\"dataframe\">\n",
       "  <thead>\n",
       "    <tr style=\"text-align: right;\">\n",
       "      <th></th>\n",
       "      <th>the_review</th>\n",
       "      <th>year</th>\n",
       "      <th>month</th>\n",
       "    </tr>\n",
       "  </thead>\n",
       "  <tbody>\n",
       "    <tr>\n",
       "      <th>0</th>\n",
       "      <td>I wish I would have gotten one earlier. I love...</td>\n",
       "      <td>2022</td>\n",
       "      <td>10</td>\n",
       "    </tr>\n",
       "    <tr>\n",
       "      <th>1</th>\n",
       "      <td>I've learned this lesson (again). Open the pac...</td>\n",
       "      <td>2022</td>\n",
       "      <td>10</td>\n",
       "    </tr>\n",
       "    <tr>\n",
       "      <th>2</th>\n",
       "      <td>It is so slow and lags find a better option</td>\n",
       "      <td>2022</td>\n",
       "      <td>10</td>\n",
       "    </tr>\n",
       "    <tr>\n",
       "      <th>3</th>\n",
       "      <td>Roller ball stopped working within 4 months of...</td>\n",
       "      <td>2022</td>\n",
       "      <td>10</td>\n",
       "    </tr>\n",
       "    <tr>\n",
       "      <th>4</th>\n",
       "      <td>I like the color and size but it’s a few days ...</td>\n",
       "      <td>2022</td>\n",
       "      <td>10</td>\n",
       "    </tr>\n",
       "    <tr>\n",
       "      <th>...</th>\n",
       "      <td>...</td>\n",
       "      <td>...</td>\n",
       "      <td>...</td>\n",
       "    </tr>\n",
       "    <tr>\n",
       "      <th>18327</th>\n",
       "      <td>Much more than I expected sound is awesome and...</td>\n",
       "      <td>2018</td>\n",
       "      <td>11</td>\n",
       "    </tr>\n",
       "    <tr>\n",
       "      <th>18328</th>\n",
       "      <td>Good quality</td>\n",
       "      <td>2018</td>\n",
       "      <td>11</td>\n",
       "    </tr>\n",
       "    <tr>\n",
       "      <th>18330</th>\n",
       "      <td>Ok</td>\n",
       "      <td>2018</td>\n",
       "      <td>10</td>\n",
       "    </tr>\n",
       "    <tr>\n",
       "      <th>18331</th>\n",
       "      <td>Speaker has clean sound just not loud enough t...</td>\n",
       "      <td>2018</td>\n",
       "      <td>10</td>\n",
       "    </tr>\n",
       "    <tr>\n",
       "      <th>18332</th>\n",
       "      <td>Charge 4 is perfect. Someone says the issues a...</td>\n",
       "      <td>2018</td>\n",
       "      <td>10</td>\n",
       "    </tr>\n",
       "  </tbody>\n",
       "</table>\n",
       "<p>17640 rows × 3 columns</p>\n",
       "</div>"
      ],
      "text/plain": [
       "                                              the_review  year month\n",
       "0      I wish I would have gotten one earlier. I love...  2022    10\n",
       "1      I've learned this lesson (again). Open the pac...  2022    10\n",
       "2            It is so slow and lags find a better option  2022    10\n",
       "3      Roller ball stopped working within 4 months of...  2022    10\n",
       "4      I like the color and size but it’s a few days ...  2022    10\n",
       "...                                                  ...   ...   ...\n",
       "18327  Much more than I expected sound is awesome and...  2018    11\n",
       "18328                                       Good quality  2018    11\n",
       "18330                                                 Ok  2018    10\n",
       "18331  Speaker has clean sound just not loud enough t...  2018    10\n",
       "18332  Charge 4 is perfect. Someone says the issues a...  2018    10\n",
       "\n",
       "[17640 rows x 3 columns]"
      ]
     },
     "execution_count": 41,
     "metadata": {},
     "output_type": "execute_result"
    }
   ],
   "source": [
    "export = df_eda[['the_review',\"year\",'month']]\n",
    "export"
   ]
  },
  {
   "cell_type": "markdown",
   "metadata": {},
   "source": [
    "### **Exporting the data**"
   ]
  },
  {
   "cell_type": "code",
   "execution_count": 42,
   "metadata": {},
   "outputs": [],
   "source": [
    "export.to_csv('../model/topic_data.csv',index=False)"
   ]
  }
 ],
 "metadata": {
  "kernelspec": {
   "display_name": "Python 3.8.13",
   "language": "python",
   "name": "python3"
  },
  "language_info": {
   "codemirror_mode": {
    "name": "ipython",
    "version": 3
   },
   "file_extension": ".py",
   "mimetype": "text/x-python",
   "name": "python",
   "nbconvert_exporter": "python",
   "pygments_lexer": "ipython3",
   "version": "3.8.13"
  },
  "orig_nbformat": 4,
  "vscode": {
   "interpreter": {
    "hash": "0d3784fccdc90acbf957f8297e7e306d4c8b14c1a207bd5307d0795df9a8d77b"
   }
  }
 },
 "nbformat": 4,
 "nbformat_minor": 2
}
